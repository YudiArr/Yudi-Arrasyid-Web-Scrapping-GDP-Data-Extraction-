{
  "nbformat": 4,
  "nbformat_minor": 0,
  "metadata": {
    "colab": {
      "provenance": []
    },
    "kernelspec": {
      "name": "python3",
      "display_name": "Python 3"
    },
    "language_info": {
      "name": "python"
    }
  },
  "cells": [
    {
      "cell_type": "markdown",
      "source": [
        "#  **GDP Data Extraction and processing**\n",
        "Sebuah perusahaan internasional yang ingin memperluas bisnisnya ke berbagai negara di seluruh dunia telah merekrutmu. Kamu telah dipekerjakan sebagai Data Engineer junior dan ditugaskan untuk membuat skrip yang dapat mengekstrak daftar 10 ekonomi terbesar di dunia dalam urutan turun berdasarkan GDP mereka dalam miliar USD (dibulatkan menjadi 2 angka desimal), seperti yang dicatat oleh Dana Moneter Internasional (IMF)."
      ],
      "metadata": {
        "id": "Vsp7loch6b3V"
      }
    },
    {
      "cell_type": "markdown",
      "source": [
        "<img src=\"https://cf-courses-data.s3.us.cloud-object-storage.appdomain.cloud/IBMDeveloperSkillsNetwork-PY0101EN-SkillsNetwork/images/pandas_wbs_3.png\">"
      ],
      "metadata": {
        "id": "tY2r_mwLdE4W"
      }
    },
    {
      "cell_type": "markdown",
      "source": [
        "# **Tujuan**\n",
        "\n",
        "Setelah menyelesaikan lab ini, Anda akan dapat:\n",
        "\n",
        "- Menggunakan Webscraping untuk mengekstrak informasi yang diperlukan dari sebuah website.\n",
        "- Menggunakan Pandas untuk memuat dan memproses data tabular sebagai dataframe.\n",
        "- Menggunakan Numpy untuk memanipulasi informasi yang terdapat dalam dataframe.\n",
        "- Memuat dataframe yang diperbarui ke file CSV."
      ],
      "metadata": {
        "id": "7uzJ-dCAG7oy"
      }
    },
    {
      "cell_type": "markdown",
      "source": [
        "# **1. Web Scrapping**"
      ],
      "metadata": {
        "id": "T7GzVqcYNdyg"
      }
    },
    {
      "cell_type": "markdown",
      "source": [
        "### **Version 1 Scrapping BeatutifulSoup**"
      ],
      "metadata": {
        "id": "nbsRaMazbl2a"
      }
    },
    {
      "cell_type": "code",
      "source": [
        "from bs4 import BeautifulSoup\n",
        "import requests\n",
        "\n",
        "# URL dari halaman Wikipedia yang ingin di-scrape\n",
        "URL = \"https://web.archive.org/web/20230902185326/https://en.wikipedia.org/wiki/List_of_countries_by_GDP_%28nominal%29\"\n",
        "\n",
        "# Mengambil konten halaman web\n",
        "page = requests.get(URL)\n",
        "\n",
        "# Membuat objek BeautifulSoup untuk melakukan parsing HTML\n",
        "soup = BeautifulSoup(page.content, \"html.parser\")\n",
        "\n",
        "# Temukan Table pada Data GDP\n",
        "table = soup.find(\"table\", {\"class\": \"wikitable\"})\n",
        "\n",
        "# Ekstraksi data dari table yang ditemukan kedalam list data\n",
        "data = []\n",
        "for row in table.find_all(\"tr\")[1:]:\n",
        "    cols = row.find_all(\"td\")\n",
        "    if len(cols) >= 8:\n",
        "      # Rank Country Kolom 0\n",
        "        rank = cols[0].text.strip()\n",
        "      # Country Kolom 1\n",
        "        country = cols[1].text.strip()\n",
        "      # GDP IMF Kolom 2\n",
        "        gdpIMF = cols[2].text.strip()\n",
        "      # GDP World Bank Kolom 4\n",
        "        gdpWB = cols[4].text.strip()\n",
        "      # GDP United Nations Kolom 6\n",
        "        gdpUN = cols[6].text.strip()\n",
        "      # Gabung Kedalam 1 Data\n",
        "        data.append({\"Rank\": rank, \"Country\": country, \"GDP IMF\": gdpIMF, \"GDP World Bank\":gdpWB, \"GDP United Nations\":gdpUN})\n",
        "\n",
        "# Buat Dataframe dari Data yang dibutuhkan\n",
        "df = pd.DataFrame(data)\n",
        "\n",
        "# Cetak  dataframe\n",
        "print(df)"
      ],
      "metadata": {
        "id": "huM5UZfAFYvT"
      },
      "execution_count": null,
      "outputs": []
    },
    {
      "cell_type": "markdown",
      "source": [
        "### **Version 2 Only Pandas Without BeautifulSoup**"
      ],
      "metadata": {
        "id": "6KG3HgGqcPMh"
      }
    },
    {
      "cell_type": "code",
      "source": [
        "import pandas as pd\n",
        "\n",
        "URL = 'https://web.archive.org/web/20230902185326/https://en.wikipedia.org/wiki/List_of_countries_by_GDP_%28nominal%29'\n",
        "tables = pd.read_html(URL)\n",
        "# Letak Tabel Nomor 3\n",
        "df = tables[3]\n",
        "\n",
        "# Replace the column headers with column numbers\n",
        "df.columns = range(df.shape[1])\n",
        "\n",
        "# Retain columns with index 0 and 2 (name of country and value of GDP quoted by IMF)\n",
        "df = df[[0,1,2]]\n",
        "\n",
        "# Retain the Rows with index 1 to 10, indicating the top 10 economies of the world.\n",
        "df = df.iloc[1:11,:]\n",
        "\n",
        "# Assign column names as \"Country\" and \"GDP (Million USD)\"\n",
        "df.columns = ['Rank','Country','GDP (Million USD)']\n",
        "\n",
        "print(df)"
      ],
      "metadata": {
        "id": "PiAEeJUvpjOt",
        "colab": {
          "base_uri": "https://localhost:8080/"
        },
        "outputId": "5e48b8e9-6bf0-4127-d9c2-e8cea5a4295b"
      },
      "execution_count": 123,
      "outputs": [
        {
          "output_type": "stream",
          "name": "stdout",
          "text": [
            "              Rank   Country GDP (Million USD)\n",
            "1    United States  Americas          26854599\n",
            "2            China      Asia          19373586\n",
            "3            Japan      Asia           4409738\n",
            "4          Germany    Europe           4308854\n",
            "5            India      Asia           3736882\n",
            "6   United Kingdom    Europe           3158938\n",
            "7           France    Europe           2923489\n",
            "8            Italy    Europe           2169745\n",
            "9           Canada  Americas           2089672\n",
            "10          Brazil  Americas           2081235\n"
          ]
        }
      ]
    },
    {
      "cell_type": "markdown",
      "source": [
        "# **2. Ubah Nilai Data GDP Dalam Juta Menjadi Miliar USD**\n",
        " Setelah mendapatkan nilai dalam Juta USD, Anda dapat mengonversinya menjadi Miliar USD dan membulatkannya ke 2 angka desimal menggunakan metode round() dari library numpy."
      ],
      "metadata": {
        "id": "XsSdn5dmortF"
      }
    },
    {
      "cell_type": "code",
      "source": [
        "import pandas as pd\n",
        "\n",
        "URL = 'https://web.archive.org/web/20230902185326/https://en.wikipedia.org/wiki/List_of_countries_by_GDP_%28nominal%29'\n",
        "tables = pd.read_html(URL)\n",
        "# Letak Tabel Nomor 3\n",
        "df = tables[3]\n",
        "\n",
        "# Replace the column headers with column numbers\n",
        "df.columns = range(df.shape[1])\n",
        "\n",
        "# Retain columns with index 0 and 2 (name of country and value of GDP quoted by IMF)\n",
        "df = df[[0,1,2]]\n",
        "\n",
        "# Retain the Rows with index 1 to 10, indicating the top 10 economies of the world.\n",
        "df = df.iloc[1:11,:]\n",
        "\n",
        "# Assign column names as \"Country\" and \"GDP (Million USD)\"\n",
        "df.columns = ['Rank','Country','GDP (Million USD)']\n",
        "\n",
        "# Change the data type of the 'GDP (Million USD)' column to integer. Use astype() method.\n",
        "df['GDP (Million USD)'] = df['GDP (Million USD)'].astype(int)\n",
        "\n",
        "# Convert the GDP value in Million USD to Billion USD\n",
        "df[['GDP (Million USD)']] = df[['GDP (Million USD)']]/1000\n",
        "\n",
        "# Use numpy.round() method to round the value to 2 decimal places.\n",
        "df[['GDP (Million USD)']] = np.round(df[['GDP (Million USD)']], 2)\n",
        "\n",
        "# Rename the column header from 'GDP (Million USD)' to 'GDP (Billion USD)'\n",
        "df.rename(columns = {'GDP (Million USD)' : 'GDP (Billion USD)'}, inplace=True)\n",
        "\n",
        "print(df)"
      ],
      "metadata": {
        "colab": {
          "base_uri": "https://localhost:8080/"
        },
        "id": "JWdZFzp6zOjo",
        "outputId": "4a6c7860-5d51-4371-a9e4-da6db9f08886"
      },
      "execution_count": 129,
      "outputs": [
        {
          "output_type": "stream",
          "name": "stdout",
          "text": [
            "              Rank   Country  GDP (Billion USD)\n",
            "1    United States  Americas           26854.60\n",
            "2            China      Asia           19373.59\n",
            "3            Japan      Asia            4409.74\n",
            "4          Germany    Europe            4308.85\n",
            "5            India      Asia            3736.88\n",
            "6   United Kingdom    Europe            3158.94\n",
            "7           France    Europe            2923.49\n",
            "8            Italy    Europe            2169.74\n",
            "9           Canada  Americas            2089.67\n",
            "10          Brazil  Americas            2081.24\n"
          ]
        }
      ]
    },
    {
      "cell_type": "markdown",
      "source": [
        "# **3.Simpan File Ekstensi CSV**"
      ],
      "metadata": {
        "id": "ic1HvrE-0cG4"
      }
    },
    {
      "cell_type": "code",
      "source": [
        "import pandas as pd\n",
        "\n",
        "URL = 'https://web.archive.org/web/20230902185326/https://en.wikipedia.org/wiki/List_of_countries_by_GDP_%28nominal%29'\n",
        "tables = pd.read_html(URL)\n",
        "# Letak Tabel Nomor 3\n",
        "df = tables[3]\n",
        "\n",
        "# Replace the column headers with column numbers\n",
        "df.columns = range(df.shape[1])\n",
        "\n",
        "# Retain columns with index 0 and 2 (name of country and value of GDP quoted by IMF)\n",
        "df = df[[0,1,2]]\n",
        "\n",
        "# Retain the Rows with index 1 to 10, indicating the top 10 economies of the world.\n",
        "df = df.iloc[1:11,:]\n",
        "\n",
        "# Assign column names as \"Country\" and \"GDP (Million USD)\"\n",
        "df.columns = ['Rank','Country','GDP (Million USD)']\n",
        "\n",
        "# Change the data type of the 'GDP (Million USD)' column to integer. Use astype() method.\n",
        "df['GDP (Million USD)'] = df['GDP (Million USD)'].astype(int)\n",
        "\n",
        "# Convert the GDP value in Million USD to Billion USD\n",
        "df[['GDP (Million USD)']] = df[['GDP (Million USD)']]/1000\n",
        "\n",
        "# Use numpy.round() method to round the value to 2 decimal places.\n",
        "df[['GDP (Million USD)']] = np.round(df[['GDP (Million USD)']], 2)\n",
        "\n",
        "# Rename the column header from 'GDP (Million USD)' to 'GDP (Billion USD)'\n",
        "df.rename(columns = {'GDP (Million USD)' : 'GDP (Billion USD)'}, inplace=True)\n",
        "# Load the DataFrame to the CSV file named \"Largest_economies.csv\"\n",
        "df.to_csv('./Largest_economies.csv')"
      ],
      "metadata": {
        "id": "Em5WE4j903eR"
      },
      "execution_count": 132,
      "outputs": []
    }
  ]
}